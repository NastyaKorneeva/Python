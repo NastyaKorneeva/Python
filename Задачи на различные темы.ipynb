{
 "cells": [
  {
   "cell_type": "markdown",
   "metadata": {},
   "source": [
    "Функция принимает два кортежа из двух элементов – координаты точек. Вывести уравнение прямой, проходящей через заданные точки. Функция должна вызывать ошибку, если переданные данные в нее некорректны (кортежи имеют не 2 элемента, типы данных не float и не integer)"
   ]
  },
  {
   "cell_type": "code",
   "execution_count": 4,
   "metadata": {},
   "outputs": [],
   "source": [
    "def line2D(point1, point2):\n",
    "    \n",
    "    assert isinstance(point1, tuple) and isinstance(point2, tuple), 't'\n",
    "    assert len(point1) == 2 and len(point2) == 2, 't'\n",
    "    \n",
    "    for i in point1:\n",
    "        if not (isinstance(i, float) or isinstance(i, int)):\n",
    "            raise TypeError('t')\n",
    "    for i in point2:\n",
    "        if not (isinstance(i, float) or isinstance(i, int)):\n",
    "            raise TypeError('t')\n",
    "            \n",
    "    x1 = point1[0]\n",
    "    y1 = point1[1]\n",
    "    x2 = point2[0]\n",
    "    y2 = point2[1]\n",
    "    ky = x1 - x2\n",
    "    kx = y1 - y2\n",
    "    b = x1 * y2 - x2 * y1\n",
    "    \n",
    "    if b > 0:\n",
    "        return f'{ky}y = {kx}x + {b}'\n",
    "    else:\n",
    "        return f'{ky}y = {kx}x + {b}'"
   ]
  },
  {
   "cell_type": "code",
   "execution_count": 7,
   "metadata": {},
   "outputs": [
    {
     "data": {
      "text/plain": [
       "'-11y = 13x + -167'"
      ]
     },
     "execution_count": 7,
     "metadata": {},
     "output_type": "execute_result"
    }
   ],
   "source": [
    "line2D((1,14),(12,1))"
   ]
  },
  {
   "cell_type": "markdown",
   "metadata": {},
   "source": [
    "Реализовать функцию, которая вычисляет, сколько придется платить в месяц по кредиту и сколько всего отдать денег банку за весь период. Функция принимает обязательные аргументы m, s, p, n и необязательный параметр Boolean. Если необязательный параметр равен True, то функция возвращает ежемесячный платеж, иначе всю сумму. Функция должна иметь обработчик ошибок.\n",
    "\n",
    "Месячная выплата по займу вычисляется по такой загадочной формуле:\n",
    "\n",
    "m = (s * p * (1 + p)^n) / (12 * ((1 + p)^n – 1))\n",
    "\n",
    "В этой формуле:\n",
    "\n",
    "m - размер месячного платежа;\n",
    "\n",
    "s - сумма займа (кредита);\n",
    "\n",
    "p - процент банка, выраженный в долях единицы (т. е. если 20%, будет 0.2).\n",
    "\n",
    "n - количество лет, на которые берется кредит.\n"
   ]
  },
  {
   "cell_type": "code",
   "execution_count": null,
   "metadata": {},
   "outputs": [],
   "source": []
  },
  {
   "cell_type": "markdown",
   "metadata": {},
   "source": [
    "даны два списка и необходимо найти их совпадающие элементы, то есть область пересечения списков - элементы, которые присутствуют в обоих списках. "
   ]
  },
  {
   "cell_type": "code",
   "execution_count": 5,
   "metadata": {},
   "outputs": [
    {
     "name": "stdout",
     "output_type": "stream",
     "text": [
      "3 4 5\n",
      "4 5 6\n",
      "{'4', '5'}\n"
     ]
    }
   ],
   "source": [
    "mn1 = set (input().split(' '))\n",
    "mn2 = set (input().split(' '))\n",
    "print(mn1 & mn2)"
   ]
  },
  {
   "cell_type": "markdown",
   "metadata": {},
   "source": [
    "Отсортировать слова в строке по возрастанию их длины. "
   ]
  },
  {
   "cell_type": "code",
   "execution_count": 13,
   "metadata": {
    "scrolled": true
   },
   "outputs": [
    {
     "name": "stdout",
     "output_type": "stream",
     "text": [
      "2\n",
      "12\n",
      "123\n",
      "12 123\n"
     ]
    }
   ],
   "source": [
    "print(*sorted([input() for _ in range(int(input()))],key = len))"
   ]
  },
  {
   "cell_type": "markdown",
   "metadata": {},
   "source": []
  }
 ],
 "metadata": {
  "kernelspec": {
   "display_name": "Python 3",
   "language": "python",
   "name": "python3"
  },
  "language_info": {
   "codemirror_mode": {
    "name": "ipython",
    "version": 3
   },
   "file_extension": ".py",
   "mimetype": "text/x-python",
   "name": "python",
   "nbconvert_exporter": "python",
   "pygments_lexer": "ipython3",
   "version": "3.8.3"
  }
 },
 "nbformat": 4,
 "nbformat_minor": 4
}
