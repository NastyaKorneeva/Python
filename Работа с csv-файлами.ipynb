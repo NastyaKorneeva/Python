{
 "cells": [
  {
   "cell_type": "code",
   "execution_count": 2,
   "metadata": {},
   "outputs": [],
   "source": [
    "import csv\n",
    "import pprint\n",
    "import json"
   ]
  },
  {
   "cell_type": "markdown",
   "metadata": {},
   "source": [
    "Задание 1\n",
    "\n",
    "Написать функцию, которая принимает id преподавателя и id группы. Функция возвращает False, если данный преподаватель не преподавал у данной группы, None, если такого прподавателя не существует, иначе возвращается словарь, в котором ключами являются наименования предметов, а значениями словари, которые хранят в себе информации о количестве студентов, сдавших на 5, 4, 3 и 2 по данному предмету."
   ]
  },
  {
   "cell_type": "code",
   "execution_count": 3,
   "metadata": {},
   "outputs": [
    {
     "name": "stdout",
     "output_type": "stream",
     "text": [
      "{'Web-программирование': {'2': 8, '3': 5, '4': 4, '5': 1},\n",
      " 'Алгоритмы и структуры данных': {'2': 0, '3': 0, '4': 0, '5': 0},\n",
      " 'Английский язык': {'2': 0, '3': 0, '4': 0, '5': 0},\n",
      " 'Базы данных': {'2': 0, '3': 0, '4': 0, '5': 0},\n",
      " 'Вычислительные системы и сетевые телекоммуникации': {'2': 8,\n",
      "                                                       '3': 5,\n",
      "                                                       '4': 2,\n",
      "                                                       '5': 3},\n",
      " 'Дискретная математика': {'2': 0, '3': 0, '4': 0, '5': 0},\n",
      " 'Институциональная экономика': {'2': 0, '3': 0, '4': 0, '5': 0},\n",
      " 'Информационная безопасность': {'2': 0, '3': 0, '4': 0, '5': 0},\n",
      " 'Информационные системы и технологии': {'2': 0, '3': 0, '4': 0, '5': 0},\n",
      " 'Корпоративные информационные системы': {'2': 0, '3': 0, '4': 0, '5': 0},\n",
      " 'Линейная алгебра': {'2': 0, '3': 0, '4': 0, '5': 0},\n",
      " 'Макроэкономика': {'2': 0, '3': 0, '4': 0, '5': 0},\n",
      " 'Математический анализ': {'2': 0, '3': 0, '4': 0, '5': 0},\n",
      " 'Микроэкономика': {'2': 5, '3': 7, '4': 4, '5': 2},\n",
      " 'Программированиие облачных приложений': {'2': 0, '3': 0, '4': 0, '5': 0},\n",
      " 'Программная инженерия': {'2': 0, '3': 0, '4': 0, '5': 0},\n",
      " 'Реинжиниринг бизнес-процессов': {'2': 0, '3': 0, '4': 0, '5': 0},\n",
      " 'Современные языки программирования': {'2': 0, '3': 0, '4': 0, '5': 0},\n",
      " 'Философия': {'2': 0, '3': 0, '4': 0, '5': 0},\n",
      " 'Функциональное программирование': {'2': 0, '3': 0, '4': 0, '5': 0}}\n"
     ]
    }
   ],
   "source": [
    "def zadan1(prepod, gr):\n",
    "    \n",
    "    uch = 0\n",
    "    \n",
    "    with open('students.csv', 'r', encoding='cp1251') as f:\n",
    "        csv_reader = csv.reader(f, delimiter=';')\n",
    "        for row in csv_reader:\n",
    "            if row[0][0] == \"i\":\n",
    "                continue\n",
    "            if int(row[3]) == gr:\n",
    "                uch = int(row[0])\n",
    "                \n",
    "                \n",
    "    prrepod = 0\n",
    "                \n",
    "    with open('results.csv', 'r', encoding='cp1251') as f:\n",
    "        csv_reader = csv.reader(f, delimiter=';')\n",
    "        for row in csv_reader:\n",
    "            if row[0][0] == \"i\":\n",
    "                continue\n",
    "            if uch == int(row[2]) and prepod == int(row[3]):\n",
    "                prrepod = 5\n",
    "            \n",
    "    count = 0    \n",
    "    with open('teachers.csv', 'r', encoding='cp1251') as f:\n",
    "        csv_reader = csv.reader(f, delimiter=';')\n",
    "        for row in csv_reader:\n",
    "            if row[0][0] == \"i\":\n",
    "                continue\n",
    "            count += 1\n",
    "\n",
    "            \n",
    "    if prepod >= count or prepod <= 0:\n",
    "        return 'None'\n",
    "    if prrepod == 0:\n",
    "        return False\n",
    "        \n",
    "    subject = {}\n",
    "        \n",
    "    with open('subjects.csv', 'r', encoding='cp1251') as f:\n",
    "        csv_reader = csv.reader(f, delimiter=';')\n",
    "        for row in csv_reader:\n",
    "            if row[0][0] == \"i\":\n",
    "                continue\n",
    "            subject[int(row[0])] = row[1]\n",
    "            \n",
    "    students = []\n",
    "    with open('students.csv', 'r', encoding='cp1251') as f:\n",
    "        csv_reader = csv.reader(f, delimiter=';')\n",
    "        for row in csv_reader:\n",
    "            if row[0][0] == \"i\":\n",
    "                continue\n",
    "            if int(row[3]) == gr:\n",
    "                students.append(int(row[0])) \n",
    "    \n",
    "    result = {}\n",
    "    for k, v in subject.items():\n",
    "        result[k] = {\"5\":0, \"4\":0, \"3\":0, \"2\":0}\n",
    "        \n",
    "    with open('results.csv', 'r', encoding='cp1251') as f:\n",
    "        csv_reader = csv.reader(f, delimiter=';')\n",
    "        for row in csv_reader:   \n",
    "            if row[0][0] == \"i\":\n",
    "                continue\n",
    "            if int(row[3]) == prepod and int(row[2]) in students:\n",
    "                if int(row[7]) >= 85:\n",
    "                    result[int(row[1])][\"5\"] += 1\n",
    "                elif int(row[7]) >= 70:\n",
    "                    result[int(row[1])][\"4\"] += 1\n",
    "                elif int(row[7]) >= 50:\n",
    "                    result[int(row[1])][\"3\"] += 1\n",
    "                else:\n",
    "                    result[int(row[1])][\"2\"] += 1\n",
    "    \n",
    "    result2 = {subject[k]:v for k, v in result.items()}\n",
    "                \n",
    "    return result2\n",
    "                \n",
    "                \n",
    "pprint.pprint(zadan1(7, 13))"
   ]
  },
  {
   "cell_type": "markdown",
   "metadata": {},
   "source": [
    "Задание 2"
   ]
  },
  {
   "cell_type": "markdown",
   "metadata": {},
   "source": [
    "Написать функцию, которая принимает ФИО преподавателя и необязательный параметр to_json, который по умолчанию равен False и принимает имя файла. Если указан параметр to_json, то он должен сохранить итоговый результат в данный файл и вернуть значение True, иначе просто вернуть словарь. В словаре ключами являются наименования групп, в которых он преподавал, а значениям - результат выполнения первой функции."
   ]
  },
  {
   "cell_type": "code",
   "execution_count": null,
   "metadata": {},
   "outputs": [],
   "source": [
    "def zadan2(prepod, to_json = False):\n",
    "    "
   ]
  },
  {
   "cell_type": "markdown",
   "metadata": {},
   "source": [
    "Задание 3"
   ]
  },
  {
   "cell_type": "markdown",
   "metadata": {},
   "source": [
    "Реализовать функцию, которая принимает параметры entry_year - год поступления, subject_name - наименование предмета и необязаиельный параметр to_json, по умолчанию равный False. Функция должна возвращать словарь со статистикой по группам по данному предмету. Ключами словаря являются id группы, а значениями словари. Внутренний словарь имеет ключи group_name (наименование группы), stats (статистика). Значением ключа статистика является словарь, который возвращает количество студентов получившие оценку 5, количество студентов получившие оценку 4, количество студентов получившие оценку 3, количество студентов получившие оценку 2. Если параметр to_json указан, то сохраняет полученный словарь в указанный файл и возвращает True, иначе просто возвращает словарь."
   ]
  },
  {
   "cell_type": "code",
   "execution_count": 62,
   "metadata": {},
   "outputs": [
    {
     "name": "stdout",
     "output_type": "stream",
     "text": [
      "{1: {'group_name': 'ПИ1-1', 'stats': {'2': 7, '3': 8, '4': 10, '5': 2}},\n",
      " 2: {'group_name': 'ПИ1-2', 'stats': {'2': 8, '3': 6, '4': 8, '5': 3}},\n",
      " 3: {'group_name': 'ПИ1-3', 'stats': {'2': 6, '3': 15, '4': 1, '5': 4}},\n",
      " 4: {'group_name': 'ПИ1-4', 'stats': {'2': 8, '3': 11, '4': 4, '5': 3}},\n",
      " 5: {'group_name': 'ПМ1-1', 'stats': {'2': 9, '3': 6, '4': 10, '5': 1}},\n",
      " 6: {'group_name': 'ПМ1-2', 'stats': {'2': 10, '3': 10, '4': 3, '5': 1}},\n",
      " 7: {'group_name': 'ПМ1-3', 'stats': {'2': 5, '3': 13, '4': 6, '5': 0}},\n",
      " 8: {'group_name': 'ПМ1-4', 'stats': {'2': 9, '3': 11, '4': 5, '5': 0}},\n",
      " 10: {'group_name': 'ПМ1-5', 'stats': {'2': 9, '3': 10, '4': 6, '5': 0}}}\n"
     ]
    }
   ],
   "source": [
    "def zadan3(entry_year, subject_name, to_json = False):\n",
    "    \n",
    "    groups = {}\n",
    "    \n",
    "    with open('groups.csv', 'r', encoding='cp1251') as f:\n",
    "        csv_reader = csv.reader(f, delimiter=';')\n",
    "        for row in csv_reader:\n",
    "            if row[0][0] == \"i\":\n",
    "                continue\n",
    "            if int(row[2]) == entry_year:\n",
    "                groups[int(row[0])] = [row[1], int(row[2])]\n",
    "    \n",
    "    with open('subjects.csv', 'r', encoding='cp1251') as f:\n",
    "        csv_reader = csv.reader(f, delimiter=';')\n",
    "        for row in csv_reader:\n",
    "            if row[0][0] == \"i\":\n",
    "                continue\n",
    "            if row[1] == subject_name:\n",
    "                subjects_id = int(row[0])\n",
    "                \n",
    "    students = {}\n",
    "    \n",
    "    with open('students.csv', 'r', encoding='cp1251') as f:\n",
    "        csv_reader = csv.reader(f, delimiter=';')\n",
    "        for row in csv_reader:\n",
    "            if row[0][0] == \"i\":\n",
    "                continue\n",
    "            if int(row[3]) in groups:\n",
    "                students[int(row[0])] = int(row[3])\n",
    "        \n",
    "    dic = {}\n",
    "    \n",
    "    for k, v in groups.items():\n",
    "        dic[k] = {\"group_name\" : v[0], \"stats\" : {\"5\":0, \"4\":0, \"3\":0, \"2\":0}}\n",
    "    \n",
    "    with open('results.csv', 'r', encoding='cp1251') as f:\n",
    "        csv_reader = csv.reader(f, delimiter=';')\n",
    "        for row in csv_reader:   \n",
    "            if row[0][0] == \"i\":\n",
    "                continue\n",
    "            if int(row[2]) in students and int(row[1]) == subjects_id:\n",
    "                if int(row[7]) >= 85:\n",
    "                    dic[students[int(row[2])]][\"stats\"][\"5\"] += 1\n",
    "                elif int(row[7]) >= 70:\n",
    "                    dic[students[int(row[2])]][\"stats\"][\"4\"] += 1\n",
    "                elif int(row[7]) >= 50:\n",
    "                    dic[students[int(row[2])]][\"stats\"][\"3\"] += 1\n",
    "                else:\n",
    "                    dic[students[int(row[2])]][\"stats\"][\"2\"] += 1\n",
    "    \n",
    "\n",
    "\n",
    "    if to_json:\n",
    "        with open(to_json, 'w') as f:\n",
    "            json.dump(dic, f)\n",
    "        return True\n",
    "    else:\n",
    "        return dic\n",
    "                \n",
    "            \n",
    "pprint.pprint(zadan3(2018, \"Алгоритмы и структуры данных\")) "
   ]
  },
  {
   "cell_type": "markdown",
   "metadata": {},
   "source": [
    "Задание 4"
   ]
  },
  {
   "cell_type": "markdown",
   "metadata": {},
   "source": [
    "Реализовать функцию, которая по уникальному идентификатору студента возвращает его сумму баллов по каждому из контрольных мероприятий, в том числе total"
   ]
  },
  {
   "cell_type": "code",
   "execution_count": 162,
   "metadata": {},
   "outputs": [
    {
     "name": "stdout",
     "output_type": "stream",
     "text": [
      "(252, 279, 510, 1041)\n"
     ]
    }
   ],
   "source": [
    "def zadan4(id):\n",
    "    \n",
    "    att1 = 0\n",
    "    att2 = 0\n",
    "    exam = 0\n",
    "    total = 0\n",
    "    \n",
    "    with open('results.csv', 'r', encoding='cp1251') as f:\n",
    "        csv_reader = csv.reader(f, delimiter=';')\n",
    "        for row in f:\n",
    "            if row[0][0] == \"i\":\n",
    "                continue\n",
    "            row1 = row.replace(\";\", \"\",1)\n",
    "            nom = row1.find(\";\")\n",
    "            if int(row1[nom+1:nom+7]) == id:\n",
    "                rowatt1 = row.replace(\";\", \"\",3)\n",
    "                nomatt1 = rowatt1.find(\";\")\n",
    "                rowatt2 = row.replace(\";\", \"\",4)\n",
    "                nomatt2 = rowatt2.find(\";\")\n",
    "                rowexam = row.replace(\";\", \"\",5)\n",
    "                nomexam = rowexam.find(\";\")\n",
    "                rowtotal = row.replace(\";\", \"\",6)\n",
    "                nomtotal = rowtotal.find(\";\")\n",
    "                att1 += int(row[nomatt1+4:nomatt2+4])\n",
    "                att2 += int(row[nomatt2+5:nomexam+5])\n",
    "                exam += int(row[nomexam+6:nomtotal+6])\n",
    "                total += int(row[nomtotal+7:])\n",
    "        return att1, att2, exam, total\n",
    "                \n",
    "pprint.pprint(zadan4(151301))"
   ]
  },
  {
   "cell_type": "markdown",
   "metadata": {},
   "source": [
    "Задание 5"
   ]
  },
  {
   "cell_type": "markdown",
   "metadata": {},
   "source": [
    "Реализовать функцию, которая принимает параметры thread - поток в виде (ПИ2018), где буквами является наименование направления, а число - год поступления, необязательный параметр test, который по умолчанию равен total (список возможных значений att1, att2, exam, total), а также необязательный параметр to_json=False. Если параметр указан, то результат выполнения функции должен записываться в файл и функция возвращает True, если такого потока не существует, то возвращает None, иначе возвращает результат функции. Результатом выполнения функции является словарь с рейтингом студентов по указанному из периодов в параметре test. Ключом словаря является место студента в рейтинге, значением - словарь с информацией из файла students.csv, а также информацию, которая возвращается после выполнения первой функции."
   ]
  },
  {
   "cell_type": "code",
   "execution_count": null,
   "metadata": {},
   "outputs": [],
   "source": []
  },
  {
   "cell_type": "markdown",
   "metadata": {},
   "source": [
    "Задание 6"
   ]
  },
  {
   "cell_type": "markdown",
   "metadata": {},
   "source": [
    "Написать функцию, которая принимает имя группы, год поступления и наименование предмета. Также функция принимает необязательный параметр to_json, который по умолчанию равен False и принимает имя файла. Функция должна вернуть словарь, которая содержит оценки всех студентов данной группы по данному предмету. Ключом является id студента, значением словарь, который содержит полное имя студента и итоговый балл. Если to_json указывает имя файла, то сохранить результаты в файл и функция возвращает значение True, иначе возвращает получившийся словарь."
   ]
  },
  {
   "cell_type": "code",
   "execution_count": null,
   "metadata": {},
   "outputs": [],
   "source": []
  }
 ],
 "metadata": {
  "kernelspec": {
   "display_name": "Python 3",
   "language": "python",
   "name": "python3"
  },
  "language_info": {
   "codemirror_mode": {
    "name": "ipython",
    "version": 3
   },
   "file_extension": ".py",
   "mimetype": "text/x-python",
   "name": "python",
   "nbconvert_exporter": "python",
   "pygments_lexer": "ipython3",
   "version": "3.8.3"
  },
  "widgets": {
   "application/vnd.jupyter.widget-state+json": {
    "state": {},
    "version_major": 2,
    "version_minor": 0
   }
  }
 },
 "nbformat": 4,
 "nbformat_minor": 4
}
