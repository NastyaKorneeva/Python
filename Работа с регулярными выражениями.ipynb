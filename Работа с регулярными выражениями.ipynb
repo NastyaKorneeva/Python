{
 "cells": [
  {
   "cell_type": "markdown",
   "metadata": {},
   "source": [
    "# Регулярные выражения. Задания"
   ]
  },
  {
   "cell_type": "code",
   "execution_count": 1,
   "metadata": {},
   "outputs": [],
   "source": [
    "import re"
   ]
  },
  {
   "cell_type": "markdown",
   "metadata": {},
   "source": [
    "1) Дана строка 'aaa--bbb==ccc__ddd'. Написать регулярное выражение для разбивки строки на список ['aaa','bbb','ccc','ddd']."
   ]
  },
  {
   "cell_type": "code",
   "execution_count": 2,
   "metadata": {
    "scrolled": true
   },
   "outputs": [
    {
     "name": "stdout",
     "output_type": "stream",
     "text": [
      "['aaa', 'bbb', 'ccc', 'ddd']\n"
     ]
    }
   ],
   "source": [
    "result = re.split(r'--|==|__', 'aaa--bbb==ccc__ddd')\n",
    "print(result)"
   ]
  },
  {
   "cell_type": "markdown",
   "metadata": {},
   "source": [
    "2) Получить первое слово из произвольной строки. Например, для 'Yesterday, All my troubles seemed so far away' должно возвращаться 'Yesterday'."
   ]
  },
  {
   "cell_type": "code",
   "execution_count": 3,
   "metadata": {
    "scrolled": true
   },
   "outputs": [
    {
     "name": "stdout",
     "output_type": "stream",
     "text": [
      "Yesterday\n"
     ]
    }
   ],
   "source": [
    "p = re.search(r\"[^а-яА-ЯёЁa-zA-Z]\", 'Yesterday, All my troubles seemed so far away')\n",
    "result = re.split(p.group(), 'Yesterday, All my troubles seemed so far away')\n",
    "print(result[0])"
   ]
  },
  {
   "cell_type": "code",
   "execution_count": 4,
   "metadata": {
    "scrolled": true
   },
   "outputs": [
    {
     "name": "stdout",
     "output_type": "stream",
     "text": [
      "Yesterday\n"
     ]
    }
   ],
   "source": [
    "result = re.findall(r'\\w+', 'Yesterday, All my troubles seemed so far away')\n",
    "print(result[0])"
   ]
  },
  {
   "cell_type": "code",
   "execution_count": 5,
   "metadata": {},
   "outputs": [
    {
     "data": {
      "text/plain": [
       "'Yesterday'"
      ]
     },
     "execution_count": 5,
     "metadata": {},
     "output_type": "execute_result"
    }
   ],
   "source": [
    "string = 'Yesterday, All my troubles seemed so far away'\n",
    "pattern = re.compile(r'^[a-zA-Z]+\\b')\n",
    "pattern.match(string).group()"
   ]
  },
  {
   "cell_type": "markdown",
   "metadata": {},
   "source": [
    "3) Получить последнее слово из произвольной строки."
   ]
  },
  {
   "cell_type": "code",
   "execution_count": 6,
   "metadata": {
    "scrolled": true
   },
   "outputs": [
    {
     "data": {
      "text/plain": [
       "'away'"
      ]
     },
     "execution_count": 6,
     "metadata": {},
     "output_type": "execute_result"
    }
   ],
   "source": [
    "string = 'Yesterday, All my troubles seemed so far away'\n",
    "pattern = re.compile(r'[a-zA-Z]+$')\n",
    "pattern.search(string).group()"
   ]
  },
  {
   "cell_type": "code",
   "execution_count": 7,
   "metadata": {},
   "outputs": [
    {
     "name": "stdout",
     "output_type": "stream",
     "text": [
      "away\n"
     ]
    }
   ],
   "source": [
    "result = re.findall(r'\\w+', 'Yesterday, All my troubles seemed so far away')\n",
    "print(result[-1])"
   ]
  },
  {
   "cell_type": "markdown",
   "metadata": {},
   "source": [
    "4) В следующем отрывке найти все слова, которые начинаются на гласную букву:"
   ]
  },
  {
   "cell_type": "code",
   "execution_count": 8,
   "metadata": {},
   "outputs": [],
   "source": [
    "s= '''My uncle -- high ideals inspire him;\n",
    "but when past joking he fell sick,\n",
    "he really forced one to admire him --\n",
    "and never played a shrewder trick.\n",
    "Let others learn from his example!\n",
    "But God, how deadly dull to sample\n",
    "sickroom attendance night and day\n",
    "and never stir a foot away!'''"
   ]
  },
  {
   "cell_type": "code",
   "execution_count": 9,
   "metadata": {},
   "outputs": [
    {
     "name": "stdout",
     "output_type": "stream",
     "text": [
      "['uncle', 'ideals', 'inspire', 'one', 'admire', 'and', 'others', 'example', 'attendance', 'and', 'and', 'away']\n"
     ]
    }
   ],
   "source": [
    "result = re.findall(r'\\b[aeiouAEIOU]\\w+', s)\n",
    "print(result)"
   ]
  },
  {
   "cell_type": "code",
   "execution_count": 10,
   "metadata": {
    "scrolled": false
   },
   "outputs": [
    {
     "name": "stdout",
     "output_type": "stream",
     "text": [
      "uncle\n",
      "ideals\n",
      "inspire\n",
      "one\n",
      "admire\n",
      "and\n",
      "a\n",
      "others\n",
      "example\n",
      "attendance\n",
      "and\n",
      "and\n",
      "a\n",
      "away\n"
     ]
    }
   ],
   "source": [
    "result = re.findall(r'\\w+', s)\n",
    "for i in range(len(result)):\n",
    "    rezz = result[i][0]\n",
    "    if rezz == 'a' or rezz == 'o' or rezz == 'u':\n",
    "        print(result[i])\n",
    "    if rezz == 'e' or rezz == 'y' or rezz == 'i':\n",
    "        print(result[i])\n",
    "    if rezz == 'A' or rezz == 'O' or rezz == 'U':\n",
    "        print(result[i])\n",
    "    if rezz == 'E' or rezz == 'Y' or rezz == 'I':\n",
    "        print(result[i])"
   ]
  },
  {
   "cell_type": "markdown",
   "metadata": {},
   "source": [
    "5) В этом же отрывке найти первое слово каждой строки"
   ]
  },
  {
   "cell_type": "code",
   "execution_count": 11,
   "metadata": {},
   "outputs": [
    {
     "name": "stdout",
     "output_type": "stream",
     "text": [
      "['My', 'but', 'he', 'and', 'Let', 'But', 'sickroom', 'and']\n"
     ]
    }
   ],
   "source": [
    "result = re.findall(r'^\\w+', s, re.M)\n",
    "print(result)"
   ]
  },
  {
   "cell_type": "markdown",
   "metadata": {},
   "source": [
    "6) Проверить корректность введенного E-mail"
   ]
  },
  {
   "cell_type": "markdown",
   "metadata": {},
   "source": [
    "7) В следующей строке найти все email-адреса и вывести только доменные имена"
   ]
  },
  {
   "cell_type": "code",
   "execution_count": 15,
   "metadata": {},
   "outputs": [
    {
     "name": "stdout",
     "output_type": "stream",
     "text": [
      "['@gmail.vom']\n"
     ]
    }
   ],
   "source": [
    "result = re.findall(r'@\\w*.\\w*', 'ttttt@gmail.vom')\n",
    "print(result)"
   ]
  },
  {
   "cell_type": "markdown",
   "metadata": {},
   "source": [
    "8) Проверить корректность введенного номера мобильного телефона. Корректными считаются: <br>\n",
    "+7(999)999-99-99  <br>\n",
    "+7 (999) 999-99-99  <br>\n",
    "+7 999 999-99-99 <br>\n",
    "+7 999 999 99 99 <br>\n",
    "+79999999999"
   ]
  },
  {
   "cell_type": "code",
   "execution_count": 14,
   "metadata": {},
   "outputs": [
    {
     "name": "stdout",
     "output_type": "stream",
     "text": [
      "+79999999999 yes\n",
      "+7 (999) 999-99-99 yes\n",
      "+7 999 999-99-99 yes\n",
      "+7 999 999 99 99 yes\n",
      "+7(999)999-99-99 yes\n"
     ]
    }
   ],
   "source": [
    "lst = ['+79999999999', '+7 (999) 999-99-99', '+7 999 999-99-99', '+7 999 999 99 99', '+7(999)999-99-99']\n",
    "    \n",
    "for i in lst:\n",
    "        \n",
    "    if re.match(r'[+7][0-9]{10}', i):\n",
    "            \n",
    "        print(i, 'yes')\n",
    "        \n",
    "    elif re.match(r'[+7]*[\\(]([0-9]{3})*[\\)][0-9]{3}(?:-\\d{2}){2}', i):\n",
    "            \n",
    "        print(i, 'yes')\n",
    "        \n",
    "    elif re.match(r'[+7]*(?:\\s\\d{2,3}){4}', i):\n",
    "            \n",
    "        print(i, 'yes')\n",
    "        \n",
    "    elif re.match(r'[+7]+[\\s][\\(]([0-9]{3})[\\)]+[\\s][0-9]{3}(?:-\\d{2}){2}', i):\n",
    "            \n",
    "        print(i,'yes')\n",
    "        \n",
    "    elif re.match(r'[+7]*[\\s]([0-9]{3})*[\\s][0-9]{3}(?:-\\d{2}){2}', i):\n",
    "            \n",
    "        print(i, 'yes')\n",
    "        \n",
    "    else:\n",
    "        print(i, 'no')"
   ]
  },
  {
   "cell_type": "code",
   "execution_count": null,
   "metadata": {},
   "outputs": [],
   "source": []
  },
  {
   "cell_type": "code",
   "execution_count": null,
   "metadata": {},
   "outputs": [],
   "source": []
  }
 ],
 "metadata": {
  "kernelspec": {
   "display_name": "Python 3",
   "language": "python",
   "name": "python3"
  },
  "language_info": {
   "codemirror_mode": {
    "name": "ipython",
    "version": 3
   },
   "file_extension": ".py",
   "mimetype": "text/x-python",
   "name": "python",
   "nbconvert_exporter": "python",
   "pygments_lexer": "ipython3",
   "version": "3.8.3"
  }
 },
 "nbformat": 4,
 "nbformat_minor": 2
}
